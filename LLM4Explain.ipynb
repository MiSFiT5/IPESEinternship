{
 "cells": [
  {
   "cell_type": "markdown",
   "metadata": {},
   "source": [
    "# LLM 4 Explanations on Configurations\n",
    "\n",
    "large language model for explanations of the configurations selected"
   ]
  },
  {
   "cell_type": "code",
   "execution_count": null,
   "metadata": {},
   "outputs": [],
   "source": [
    "import pandas as pd\n",
    "import random\n",
    "from openai import OpenAI\n",
    "import os\n",
    "\n",
    "Your_OpenAI_API_Key = 'sk-Your_OpenAI_API_Key'\n",
    "\n",
    "# instance creation client\n",
    "\n",
    "client = OpenAI(api_key=os.environ.get(\"OPENAI_API_KEY\", Your_OpenAI_API_Key))\n",
    "\n",
    "file_path = 'merged_configuration.csv'\n",
    "data = pd.read_csv(file_path)\n",
    "\n",
    "\n",
    "selected_indices = random.sample(range(len(data)), 5)\n",
    "selected_solutions = data.iloc[selected_indices]\n",
    "\n",
    "\n",
    "def generate_explanation(solution):\n",
    "    prompt = f\"\"\"\n",
    "    You are an expert in Energy Systems. Please provide a comprehensive and detailed explanation of the following configuration. \n",
    "    The explanation should include the purpose, potential benefits, and possible drawbacks. Additionally, relate the configuration to similar existing systems or technologies.\n",
    "    \n",
    "    Configuration details:\n",
    "    {solution.to_dict()}\n",
    "\n",
    "    Make sure the explanation covers the following aspects:\n",
    "    - **Technical Overview**: Describe the key components and how they work together.\n",
    "    - **Performance Metrics**: Discuss the most relevant metrics or parameters from the configuration.\n",
    "    - **Advantages and Disadvantages**: Provide at least three pros and three cons.\n",
    "    - **Applications**: Suggest potential use cases or contexts where this configuration might be most effective.\n",
    "    - **Comparison**: Compare this configuration with a standard or widely-used configuration in the field.\n",
    "    \"\"\"\n",
    "    response = client.chat.completions.create(\n",
    "        model=\"gpt-4\",\n",
    "        messages=[\n",
    "            {\"role\": \"system\", \"content\": \"You are an Energy System expert.\"},\n",
    "            {\"role\": \"user\", \"content\": prompt},\n",
    "        ],\n",
    "        max_tokens=150,\n",
    "        temperature=0.7\n",
    "    )\n",
    "    \n",
    "    return response['choices'][0]['message']['content'].strip()\n",
    "\n",
    "\n",
    "explanations = {}\n",
    "for index, solution in selected_solutions.iterrows():\n",
    "    explanations[index] = generate_explanation(solution)\n",
    "\n",
    "\n",
    "\n",
    "for idx, explanation in explanations.items():\n",
    "    print(f\"Solution No. {idx} Explanation:\\n{explanation}\\n\")\n"
   ]
  }
 ],
 "metadata": {
  "language_info": {
   "name": "python"
  }
 },
 "nbformat": 4,
 "nbformat_minor": 2
}
